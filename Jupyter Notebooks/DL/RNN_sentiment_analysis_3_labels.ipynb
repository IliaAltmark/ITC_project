{
  "nbformat": 4,
  "nbformat_minor": 0,
  "metadata": {
    "colab": {
      "name": "RNN - sentiment analysis - 3 labels.ipynb",
      "provenance": [],
      "collapsed_sections": [
        "4685b4d0",
        "168c56d2",
        "7ebca081",
        "91ed3842",
        "5216c152",
        "6f973e11"
      ],
      "machine_shape": "hm"
    },
    "kernelspec": {
      "name": "python3",
      "display_name": "Python 3"
    },
    "language_info": {
      "name": "python"
    },
    "accelerator": "GPU"
  },
  "cells": [
    {
      "cell_type": "code",
      "metadata": {
        "colab": {
          "base_uri": "https://localhost:8080/"
        },
        "id": "dFsJ3MBt2AV6",
        "outputId": "b660db4f-3a98-4c53-9719-e04ac875f08d"
      },
      "source": [
        "import tensorflow as tf\n",
        "tf.config.list_physical_devices('GPU')"
      ],
      "execution_count": null,
      "outputs": [
        {
          "output_type": "execute_result",
          "data": {
            "text/plain": [
              "[PhysicalDevice(name='/physical_device:GPU:0', device_type='GPU')]"
            ]
          },
          "metadata": {},
          "execution_count": 83
        }
      ]
    },
    {
      "cell_type": "code",
      "metadata": {
        "id": "Sv_O0lzSKTaH"
      },
      "source": [
        "import pandas as pd\n",
        "import matplotlib.pyplot as plt\n",
        "import seaborn as sns\n",
        "import numpy as np"
      ],
      "execution_count": null,
      "outputs": []
    },
    {
      "cell_type": "code",
      "metadata": {
        "id": "rwXbXp0RLXAw"
      },
      "source": [
        "df = pd.read_csv('/content/drive/MyDrive/Colab Notebooks/Sentiment analysis - Project/Data/new_dataset.csv')"
      ],
      "execution_count": null,
      "outputs": []
    },
    {
      "cell_type": "markdown",
      "metadata": {
        "id": "61cd6566"
      },
      "source": [
        "# EDA"
      ]
    },
    {
      "cell_type": "code",
      "metadata": {
        "ExecuteTime": {
          "end_time": "2021-09-28T16:05:40.925984Z",
          "start_time": "2021-09-28T16:05:40.896985Z"
        },
        "scrolled": true,
        "id": "245599f8",
        "colab": {
          "base_uri": "https://localhost:8080/",
          "height": 206
        },
        "outputId": "183c25ed-de58-4cae-d23f-528dd238b50b"
      },
      "source": [
        "df.head()"
      ],
      "execution_count": null,
      "outputs": [
        {
          "output_type": "execute_result",
          "data": {
            "text/html": [
              "<div>\n",
              "<style scoped>\n",
              "    .dataframe tbody tr th:only-of-type {\n",
              "        vertical-align: middle;\n",
              "    }\n",
              "\n",
              "    .dataframe tbody tr th {\n",
              "        vertical-align: top;\n",
              "    }\n",
              "\n",
              "    .dataframe thead th {\n",
              "        text-align: right;\n",
              "    }\n",
              "</style>\n",
              "<table border=\"1\" class=\"dataframe\">\n",
              "  <thead>\n",
              "    <tr style=\"text-align: right;\">\n",
              "      <th></th>\n",
              "      <th>reviewText</th>\n",
              "      <th>overall</th>\n",
              "    </tr>\n",
              "  </thead>\n",
              "  <tbody>\n",
              "    <tr>\n",
              "      <th>0</th>\n",
              "      <td>Wonderful tool and perfect for my needs.</td>\n",
              "      <td>5</td>\n",
              "    </tr>\n",
              "    <tr>\n",
              "      <th>1</th>\n",
              "      <td>Good Boye quality.  FAST shipping!</td>\n",
              "      <td>5</td>\n",
              "    </tr>\n",
              "    <tr>\n",
              "      <th>2</th>\n",
              "      <td>Cute, Cute, Cute.</td>\n",
              "      <td>5</td>\n",
              "    </tr>\n",
              "    <tr>\n",
              "      <th>3</th>\n",
              "      <td>Needed 4 different colors for bags and buying ...</td>\n",
              "      <td>5</td>\n",
              "    </tr>\n",
              "    <tr>\n",
              "      <th>4</th>\n",
              "      <td>I've found that this type of threader works ea...</td>\n",
              "      <td>5</td>\n",
              "    </tr>\n",
              "  </tbody>\n",
              "</table>\n",
              "</div>"
            ],
            "text/plain": [
              "                                          reviewText  overall\n",
              "0           Wonderful tool and perfect for my needs.        5\n",
              "1                 Good Boye quality.  FAST shipping!        5\n",
              "2                                  Cute, Cute, Cute.        5\n",
              "3  Needed 4 different colors for bags and buying ...        5\n",
              "4  I've found that this type of threader works ea...        5"
            ]
          },
          "metadata": {},
          "execution_count": 86
        }
      ]
    },
    {
      "cell_type": "markdown",
      "metadata": {
        "id": "4685b4d0"
      },
      "source": [
        "#### Data exploration"
      ]
    },
    {
      "cell_type": "code",
      "metadata": {
        "ExecuteTime": {
          "end_time": "2021-09-28T16:06:10.062839Z",
          "start_time": "2021-09-28T16:06:10.048839Z"
        },
        "id": "f1eea3ae",
        "colab": {
          "base_uri": "https://localhost:8080/"
        },
        "outputId": "80e4b55a-327c-4403-fc98-0ca4dff78f2f"
      },
      "source": [
        "df.head()"
      ],
      "execution_count": null,
      "outputs": [
        {
          "output_type": "execute_result",
          "data": {
            "text/html": [
              "<div>\n",
              "<style scoped>\n",
              "    .dataframe tbody tr th:only-of-type {\n",
              "        vertical-align: middle;\n",
              "    }\n",
              "\n",
              "    .dataframe tbody tr th {\n",
              "        vertical-align: top;\n",
              "    }\n",
              "\n",
              "    .dataframe thead th {\n",
              "        text-align: right;\n",
              "    }\n",
              "</style>\n",
              "<table border=\"1\" class=\"dataframe\">\n",
              "  <thead>\n",
              "    <tr style=\"text-align: right;\">\n",
              "      <th></th>\n",
              "      <th>reviewText</th>\n",
              "      <th>overall</th>\n",
              "    </tr>\n",
              "  </thead>\n",
              "  <tbody>\n",
              "    <tr>\n",
              "      <th>0</th>\n",
              "      <td>Wonderful tool and perfect for my needs.</td>\n",
              "      <td>5</td>\n",
              "    </tr>\n",
              "    <tr>\n",
              "      <th>1</th>\n",
              "      <td>Good Boye quality.  FAST shipping!</td>\n",
              "      <td>5</td>\n",
              "    </tr>\n",
              "    <tr>\n",
              "      <th>2</th>\n",
              "      <td>Cute, Cute, Cute.</td>\n",
              "      <td>5</td>\n",
              "    </tr>\n",
              "    <tr>\n",
              "      <th>3</th>\n",
              "      <td>Needed 4 different colors for bags and buying ...</td>\n",
              "      <td>5</td>\n",
              "    </tr>\n",
              "    <tr>\n",
              "      <th>4</th>\n",
              "      <td>I've found that this type of threader works ea...</td>\n",
              "      <td>5</td>\n",
              "    </tr>\n",
              "  </tbody>\n",
              "</table>\n",
              "</div>"
            ],
            "text/plain": [
              "                                          reviewText  overall\n",
              "0           Wonderful tool and perfect for my needs.        5\n",
              "1                 Good Boye quality.  FAST shipping!        5\n",
              "2                                  Cute, Cute, Cute.        5\n",
              "3  Needed 4 different colors for bags and buying ...        5\n",
              "4  I've found that this type of threader works ea...        5"
            ]
          },
          "metadata": {},
          "execution_count": 87
        }
      ]
    },
    {
      "cell_type": "markdown",
      "metadata": {
        "id": "0e24affa"
      },
      "source": [
        "Checking size"
      ]
    },
    {
      "cell_type": "code",
      "metadata": {
        "ExecuteTime": {
          "end_time": "2021-09-28T16:06:11.641953Z",
          "start_time": "2021-09-28T16:06:11.624955Z"
        },
        "id": "43ca3bdc",
        "colab": {
          "base_uri": "https://localhost:8080/"
        },
        "outputId": "5f09f583-1a47-4877-b53e-2c33783c6009"
      },
      "source": [
        "df.size"
      ],
      "execution_count": null,
      "outputs": [
        {
          "output_type": "execute_result",
          "data": {
            "text/plain": [
              "500000"
            ]
          },
          "metadata": {},
          "execution_count": 88
        }
      ]
    },
    {
      "cell_type": "markdown",
      "metadata": {
        "id": "46f14249"
      },
      "source": [
        "Showing columns"
      ]
    },
    {
      "cell_type": "code",
      "metadata": {
        "ExecuteTime": {
          "end_time": "2021-09-28T16:06:14.095946Z",
          "start_time": "2021-09-28T16:06:14.080934Z"
        },
        "id": "79c4ab1f",
        "colab": {
          "base_uri": "https://localhost:8080/"
        },
        "outputId": "f8e1b448-f907-4f9d-befe-d95491e83651"
      },
      "source": [
        "df.columns"
      ],
      "execution_count": null,
      "outputs": [
        {
          "output_type": "execute_result",
          "data": {
            "text/plain": [
              "Index(['reviewText', 'overall'], dtype='object')"
            ]
          },
          "metadata": {},
          "execution_count": 89
        }
      ]
    },
    {
      "cell_type": "markdown",
      "metadata": {
        "id": "dedb820a"
      },
      "source": [
        "Showing number of columns and rows"
      ]
    },
    {
      "cell_type": "code",
      "metadata": {
        "ExecuteTime": {
          "end_time": "2021-09-28T16:06:17.362965Z",
          "start_time": "2021-09-28T16:06:17.344957Z"
        },
        "id": "91888668",
        "colab": {
          "base_uri": "https://localhost:8080/"
        },
        "outputId": "f2adf56f-c00e-4340-c463-b91d79f8f715"
      },
      "source": [
        "df.shape"
      ],
      "execution_count": null,
      "outputs": [
        {
          "output_type": "execute_result",
          "data": {
            "text/plain": [
              "(250000, 2)"
            ]
          },
          "metadata": {},
          "execution_count": 90
        }
      ]
    },
    {
      "cell_type": "markdown",
      "metadata": {
        "id": "168c56d2"
      },
      "source": [
        "#### Data integrity checks"
      ]
    },
    {
      "cell_type": "code",
      "metadata": {
        "ExecuteTime": {
          "end_time": "2021-09-28T16:06:25.130876Z",
          "start_time": "2021-09-28T16:06:24.864870Z"
        },
        "id": "bd68ec25",
        "colab": {
          "base_uri": "https://localhost:8080/"
        },
        "outputId": "240b41e9-fb05-421d-8593-bea437bab3db"
      },
      "source": [
        "df.describe(include='all')"
      ],
      "execution_count": null,
      "outputs": [
        {
          "output_type": "execute_result",
          "data": {
            "text/html": [
              "<div>\n",
              "<style scoped>\n",
              "    .dataframe tbody tr th:only-of-type {\n",
              "        vertical-align: middle;\n",
              "    }\n",
              "\n",
              "    .dataframe tbody tr th {\n",
              "        vertical-align: top;\n",
              "    }\n",
              "\n",
              "    .dataframe thead th {\n",
              "        text-align: right;\n",
              "    }\n",
              "</style>\n",
              "<table border=\"1\" class=\"dataframe\">\n",
              "  <thead>\n",
              "    <tr style=\"text-align: right;\">\n",
              "      <th></th>\n",
              "      <th>reviewText</th>\n",
              "      <th>overall</th>\n",
              "    </tr>\n",
              "  </thead>\n",
              "  <tbody>\n",
              "    <tr>\n",
              "      <th>count</th>\n",
              "      <td>250000</td>\n",
              "      <td>250000.000000</td>\n",
              "    </tr>\n",
              "    <tr>\n",
              "      <th>unique</th>\n",
              "      <td>249033</td>\n",
              "      <td>NaN</td>\n",
              "    </tr>\n",
              "    <tr>\n",
              "      <th>top</th>\n",
              "      <td>good</td>\n",
              "      <td>NaN</td>\n",
              "    </tr>\n",
              "    <tr>\n",
              "      <th>freq</th>\n",
              "      <td>8</td>\n",
              "      <td>NaN</td>\n",
              "    </tr>\n",
              "    <tr>\n",
              "      <th>mean</th>\n",
              "      <td>NaN</td>\n",
              "      <td>3.000000</td>\n",
              "    </tr>\n",
              "    <tr>\n",
              "      <th>std</th>\n",
              "      <td>NaN</td>\n",
              "      <td>1.414216</td>\n",
              "    </tr>\n",
              "    <tr>\n",
              "      <th>min</th>\n",
              "      <td>NaN</td>\n",
              "      <td>1.000000</td>\n",
              "    </tr>\n",
              "    <tr>\n",
              "      <th>25%</th>\n",
              "      <td>NaN</td>\n",
              "      <td>2.000000</td>\n",
              "    </tr>\n",
              "    <tr>\n",
              "      <th>50%</th>\n",
              "      <td>NaN</td>\n",
              "      <td>3.000000</td>\n",
              "    </tr>\n",
              "    <tr>\n",
              "      <th>75%</th>\n",
              "      <td>NaN</td>\n",
              "      <td>4.000000</td>\n",
              "    </tr>\n",
              "    <tr>\n",
              "      <th>max</th>\n",
              "      <td>NaN</td>\n",
              "      <td>5.000000</td>\n",
              "    </tr>\n",
              "  </tbody>\n",
              "</table>\n",
              "</div>"
            ],
            "text/plain": [
              "       reviewText        overall\n",
              "count      250000  250000.000000\n",
              "unique     249033            NaN\n",
              "top          good            NaN\n",
              "freq            8            NaN\n",
              "mean          NaN       3.000000\n",
              "std           NaN       1.414216\n",
              "min           NaN       1.000000\n",
              "25%           NaN       2.000000\n",
              "50%           NaN       3.000000\n",
              "75%           NaN       4.000000\n",
              "max           NaN       5.000000"
            ]
          },
          "metadata": {},
          "execution_count": 91
        }
      ]
    },
    {
      "cell_type": "markdown",
      "metadata": {
        "id": "a3da1fa6"
      },
      "source": [
        "Checking unique values for categorical features"
      ]
    },
    {
      "cell_type": "code",
      "metadata": {
        "ExecuteTime": {
          "end_time": "2021-09-28T16:06:35.643078Z",
          "start_time": "2021-09-28T16:06:35.592075Z"
        },
        "id": "a92a3dc5",
        "colab": {
          "base_uri": "https://localhost:8080/"
        },
        "outputId": "f091f61c-aa06-4632-ee8a-3c8b444dca28"
      },
      "source": [
        "df.info()"
      ],
      "execution_count": null,
      "outputs": [
        {
          "output_type": "stream",
          "name": "stdout",
          "text": [
            "<class 'pandas.core.frame.DataFrame'>\n",
            "RangeIndex: 250000 entries, 0 to 249999\n",
            "Data columns (total 2 columns):\n",
            " #   Column      Non-Null Count   Dtype \n",
            "---  ------      --------------   ----- \n",
            " 0   reviewText  250000 non-null  object\n",
            " 1   overall     250000 non-null  int64 \n",
            "dtypes: int64(1), object(1)\n",
            "memory usage: 3.8+ MB\n"
          ]
        }
      ]
    },
    {
      "cell_type": "markdown",
      "metadata": {
        "id": "1a92e481"
      },
      "source": [
        "Some of the rows are duplicates"
      ]
    },
    {
      "cell_type": "code",
      "metadata": {
        "ExecuteTime": {
          "end_time": "2021-09-28T16:07:46.960482Z",
          "start_time": "2021-09-28T16:07:46.663457Z"
        },
        "id": "7935bf07",
        "colab": {
          "base_uri": "https://localhost:8080/"
        },
        "outputId": "2f99ce95-cba8-4c60-ce04-8eddb9b8bbb1"
      },
      "source": [
        "any(df.duplicated(subset=df.columns.drop('overall'), keep='first'))"
      ],
      "execution_count": null,
      "outputs": [
        {
          "output_type": "execute_result",
          "data": {
            "text/plain": [
              "True"
            ]
          },
          "metadata": {},
          "execution_count": 93
        }
      ]
    },
    {
      "cell_type": "markdown",
      "metadata": {
        "id": "7ebca081"
      },
      "source": [
        "#### Checking missing values"
      ]
    },
    {
      "cell_type": "markdown",
      "metadata": {
        "id": "f8d36582"
      },
      "source": [
        "Number of missing values in columns with missing values"
      ]
    },
    {
      "cell_type": "code",
      "metadata": {
        "ExecuteTime": {
          "end_time": "2021-09-28T16:06:40.719342Z",
          "start_time": "2021-09-28T16:06:40.640344Z"
        },
        "id": "516cccca",
        "colab": {
          "base_uri": "https://localhost:8080/"
        },
        "outputId": "b2dcc569-84cf-45f2-eca1-b9a162f0b553"
      },
      "source": [
        "df.isna().sum(axis=0)[df.isna().sum(axis=0) > 0]"
      ],
      "execution_count": null,
      "outputs": [
        {
          "output_type": "execute_result",
          "data": {
            "text/plain": [
              "Series([], dtype: int64)"
            ]
          },
          "metadata": {},
          "execution_count": 94
        }
      ]
    },
    {
      "cell_type": "markdown",
      "metadata": {
        "id": "11f6568e"
      },
      "source": [
        "Missing values ratio"
      ]
    },
    {
      "cell_type": "code",
      "metadata": {
        "ExecuteTime": {
          "end_time": "2021-09-28T16:06:41.872889Z",
          "start_time": "2021-09-28T16:06:41.807901Z"
        },
        "id": "3a47f9b2",
        "colab": {
          "base_uri": "https://localhost:8080/"
        },
        "outputId": "081cbad6-7974-4718-a984-65a6b25a966d"
      },
      "source": [
        "df.isna().sum(axis=0)[df.isna().sum(axis=0) > 0] / len(df)"
      ],
      "execution_count": null,
      "outputs": [
        {
          "output_type": "execute_result",
          "data": {
            "text/plain": [
              "Series([], dtype: float64)"
            ]
          },
          "metadata": {},
          "execution_count": 95
        }
      ]
    },
    {
      "cell_type": "markdown",
      "metadata": {
        "id": "91ed3842"
      },
      "source": [
        "#### Checking data balance"
      ]
    },
    {
      "cell_type": "code",
      "metadata": {
        "ExecuteTime": {
          "end_time": "2021-09-28T16:06:42.811087Z",
          "start_time": "2021-09-28T16:06:42.793081Z"
        },
        "id": "2be3edba",
        "colab": {
          "base_uri": "https://localhost:8080/"
        },
        "outputId": "94def0e9-f236-4c38-ff85-432514cda483"
      },
      "source": [
        "df.overall.value_counts()"
      ],
      "execution_count": null,
      "outputs": [
        {
          "output_type": "execute_result",
          "data": {
            "text/plain": [
              "5    50000\n",
              "4    50000\n",
              "3    50000\n",
              "2    50000\n",
              "1    50000\n",
              "Name: overall, dtype: int64"
            ]
          },
          "metadata": {},
          "execution_count": 96
        }
      ]
    },
    {
      "cell_type": "code",
      "metadata": {
        "ExecuteTime": {
          "end_time": "2021-09-28T16:06:43.267055Z",
          "start_time": "2021-09-28T16:06:43.256048Z"
        },
        "scrolled": true,
        "id": "77705f4a",
        "colab": {
          "base_uri": "https://localhost:8080/"
        },
        "outputId": "4f398fe6-bc03-42f3-925f-5d5ce69c9049"
      },
      "source": [
        "df.overall.value_counts()/len(df)"
      ],
      "execution_count": null,
      "outputs": [
        {
          "output_type": "execute_result",
          "data": {
            "text/plain": [
              "5    0.2\n",
              "4    0.2\n",
              "3    0.2\n",
              "2    0.2\n",
              "1    0.2\n",
              "Name: overall, dtype: float64"
            ]
          },
          "metadata": {},
          "execution_count": 97
        }
      ]
    },
    {
      "cell_type": "markdown",
      "metadata": {
        "ExecuteTime": {
          "end_time": "2021-09-11T15:21:43.590689Z",
          "start_time": "2021-09-11T15:21:43.582685Z"
        },
        "id": "5216c152"
      },
      "source": [
        "#### Plotting distribution"
      ]
    },
    {
      "cell_type": "code",
      "metadata": {
        "ExecuteTime": {
          "end_time": "2021-09-28T16:06:44.845925Z",
          "start_time": "2021-09-28T16:06:44.627319Z"
        },
        "id": "f4ccd463",
        "colab": {
          "base_uri": "https://localhost:8080/"
        },
        "outputId": "ed1ad0e3-31c3-4bb3-e4c0-bf8e1fa498c9"
      },
      "source": [
        "numerical = df.select_dtypes(include=['int64', 'float64'])\n",
        "for num in numerical:\n",
        "    plt.hist(num, data=df, bins=5)\n",
        "    plt.title(f'Distribution of {num}')\n",
        "    plt.xticks(rotation=45)\n",
        "    plt.show()"
      ],
      "execution_count": null,
      "outputs": [
        {
          "output_type": "display_data",
          "data": {
            "image/png": "[encoded data removed]",
            "text/plain": [
              "<Figure size 432x288 with 1 Axes>"
            ]
          },
          "metadata": {
            "needs_background": "light"
          }
        }
      ]
    },
    {
      "cell_type": "markdown",
      "metadata": {
        "id": "CNxe55lMP05u"
      },
      "source": [
        "#### Analyzing the reviews"
      ]
    },
    {
      "cell_type": "markdown",
      "metadata": {
        "id": "ywy2bsupQdTu"
      },
      "source": [
        "Checking the length of the reviews"
      ]
    },
    {
      "cell_type": "code",
      "metadata": {
        "id": "avzX-1zye2gZ"
      },
      "source": [
        "r_len = df['reviewText'].apply(len)"
      ],
      "execution_count": null,
      "outputs": []
    },
    {
      "cell_type": "code",
      "metadata": {
        "colab": {
          "base_uri": "https://localhost:8080/",
          "height": 295
        },
        "id": "LWEgPvs-oiyf",
        "outputId": "3fa9e414-804d-4273-f1f3-b952d66a17cc"
      },
      "source": [
        "plt.hist(r_len)\n",
        "plt.title('characters per review')\n",
        "plt.xlabel('num of characters')\n",
        "plt.show()"
      ],
      "execution_count": null,
      "outputs": [
        {
          "output_type": "display_data",
          "data": {
            "image/png": "[encoded data removed]",
            "text/plain": [
              "<Figure size 432x288 with 1 Axes>"
            ]
          },
          "metadata": {
            "needs_background": "light"
          }
        }
      ]
    },
    {
      "cell_type": "markdown",
      "metadata": {
        "id": "FIn8JcPuRMDF"
      },
      "source": [
        "About 90% of the reviews have character length lower than 1000."
      ]
    },
    {
      "cell_type": "code",
      "metadata": {
        "colab": {
          "base_uri": "https://localhost:8080/"
        },
        "id": "dbjl1aBRQ6MD",
        "outputId": "a2a42f67-7da5-476f-9d73-6000b511ddb8"
      },
      "source": [
        "sum(r_len < 1000) / df.shape[0]"
      ],
      "execution_count": null,
      "outputs": [
        {
          "output_type": "execute_result",
          "data": {
            "text/plain": [
              "0.91568"
            ]
          },
          "metadata": {},
          "execution_count": 101
        }
      ]
    },
    {
      "cell_type": "markdown",
      "metadata": {
        "id": "GZcLQnAqR0xv"
      },
      "source": [
        "101 unique characters"
      ]
    },
    {
      "cell_type": "code",
      "metadata": {
        "colab": {
          "base_uri": "https://localhost:8080/"
        },
        "id": "Vutkj1w-RnD6",
        "outputId": "e95552d1-2de5-44bb-99f6-1fadb2a18691"
      },
      "source": [
        "unique_chars = set(df['reviewText'].str.cat(sep=''))\n",
        "len(unique_chars)"
      ],
      "execution_count": null,
      "outputs": [
        {
          "output_type": "execute_result",
          "data": {
            "text/plain": [
              "101"
            ]
          },
          "metadata": {},
          "execution_count": 102
        }
      ]
    },
    {
      "cell_type": "markdown",
      "metadata": {
        "id": "zKoXEFmoSKEt"
      },
      "source": [
        "We can see that most of the characters are english letters. In addition to that we also have some special characters."
      ]
    },
    {
      "cell_type": "code",
      "metadata": {
        "colab": {
          "base_uri": "https://localhost:8080/"
        },
        "id": "NMEvb6QGSClf",
        "outputId": "da9085a7-6ec8-4c72-a39c-f4781d9837f5"
      },
      "source": [
        "unique_chars"
      ],
      "execution_count": null,
      "outputs": [
        {
          "output_type": "execute_result",
          "data": {
            "text/plain": [
              "{'\\x07',\n",
              " '\\n',\n",
              " '\\x10',\n",
              " '\\x14',\n",
              " '\\x15',\n",
              " ' ',\n",
              " '!',\n",
              " '\"',\n",
              " '#',\n",
              " '$',\n",
              " '%',\n",
              " '&',\n",
              " \"'\",\n",
              " '(',\n",
              " ')',\n",
              " '*',\n",
              " '+',\n",
              " ',',\n",
              " '-',\n",
              " '.',\n",
              " '/',\n",
              " '0',\n",
              " '1',\n",
              " '2',\n",
              " '3',\n",
              " '4',\n",
              " '5',\n",
              " '6',\n",
              " '7',\n",
              " '8',\n",
              " '9',\n",
              " ':',\n",
              " ';',\n",
              " '<',\n",
              " '=',\n",
              " '>',\n",
              " '?',\n",
              " '@',\n",
              " 'A',\n",
              " 'B',\n",
              " 'C',\n",
              " 'D',\n",
              " 'E',\n",
              " 'F',\n",
              " 'G',\n",
              " 'H',\n",
              " 'I',\n",
              " 'J',\n",
              " 'K',\n",
              " 'L',\n",
              " 'M',\n",
              " 'N',\n",
              " 'O',\n",
              " 'P',\n",
              " 'Q',\n",
              " 'R',\n",
              " 'S',\n",
              " 'T',\n",
              " 'U',\n",
              " 'V',\n",
              " 'W',\n",
              " 'X',\n",
              " 'Y',\n",
              " 'Z',\n",
              " '[',\n",
              " '\\\\',\n",
              " ']',\n",
              " '^',\n",
              " '_',\n",
              " '`',\n",
              " 'a',\n",
              " 'b',\n",
              " 'c',\n",
              " 'd',\n",
              " 'e',\n",
              " 'f',\n",
              " 'g',\n",
              " 'h',\n",
              " 'i',\n",
              " 'j',\n",
              " 'k',\n",
              " 'l',\n",
              " 'm',\n",
              " 'n',\n",
              " 'o',\n",
              " 'p',\n",
              " 'q',\n",
              " 'r',\n",
              " 's',\n",
              " 't',\n",
              " 'u',\n",
              " 'v',\n",
              " 'w',\n",
              " 'x',\n",
              " 'y',\n",
              " 'z',\n",
              " '{',\n",
              " '|',\n",
              " '}',\n",
              " '~',\n",
              " '\\x7f'}"
            ]
          },
          "metadata": {},
          "execution_count": 103
        }
      ]
    },
    {
      "cell_type": "markdown",
      "metadata": {
        "id": "swexFYxr8xm_"
      },
      "source": [
        "Checking number of words"
      ]
    },
    {
      "cell_type": "code",
      "metadata": {
        "id": "7nFAMthN81k2"
      },
      "source": [
        "num_of_words = df['reviewText'].apply(lambda s: len(s.split()))"
      ],
      "execution_count": null,
      "outputs": []
    },
    {
      "cell_type": "code",
      "metadata": {
        "colab": {
          "base_uri": "https://localhost:8080/",
          "height": 295
        },
        "id": "8AoaCE0N9jA6",
        "outputId": "ada5df2d-90c2-419b-e0f5-46df3e0614df"
      },
      "source": [
        "plt.hist(num_of_words)\n",
        "plt.title('Words per review')\n",
        "plt.xlabel('num of words')\n",
        "plt.show()"
      ],
      "execution_count": null,
      "outputs": [
        {
          "output_type": "display_data",
          "data": {
            "image/png": "[encoded data removed]",
            "text/plain": [
              "<Figure size 432x288 with 1 Axes>"
            ]
          },
          "metadata": {
            "needs_background": "light"
          }
        }
      ]
    },
    {
      "cell_type": "markdown",
      "metadata": {
        "id": "HobEzGyD-Ggu"
      },
      "source": [
        "About 90% of the reviews have less words than 200."
      ]
    },
    {
      "cell_type": "code",
      "metadata": {
        "colab": {
          "base_uri": "https://localhost:8080/"
        },
        "id": "e9g4ibbp93Ud",
        "outputId": "72720e46-42d3-4b9f-e4d8-cd03ce2a222f"
      },
      "source": [
        "sum(num_of_words < 200) / df.shape[0]"
      ],
      "execution_count": null,
      "outputs": [
        {
          "output_type": "execute_result",
          "data": {
            "text/plain": [
              "0.926008"
            ]
          },
          "metadata": {},
          "execution_count": 106
        }
      ]
    },
    {
      "cell_type": "markdown",
      "metadata": {
        "id": "2ed2cd3e"
      },
      "source": [
        "# Preprocessing "
      ]
    },
    {
      "cell_type": "markdown",
      "metadata": {
        "id": "6f973e11"
      },
      "source": [
        "#### Removing Nan"
      ]
    },
    {
      "cell_type": "code",
      "metadata": {
        "ExecuteTime": {
          "end_time": "2021-09-28T16:09:36.126192Z",
          "start_time": "2021-09-28T16:09:36.121203Z"
        },
        "id": "1c10adcd",
        "colab": {
          "base_uri": "https://localhost:8080/"
        },
        "outputId": "60c7a2de-5625-48d6-d506-30ac43b0bc53"
      },
      "source": [
        "df.shape"
      ],
      "execution_count": null,
      "outputs": [
        {
          "output_type": "execute_result",
          "data": {
            "text/plain": [
              "(250000, 2)"
            ]
          },
          "metadata": {},
          "execution_count": 107
        }
      ]
    },
    {
      "cell_type": "code",
      "metadata": {
        "ExecuteTime": {
          "end_time": "2021-09-28T16:09:36.411589Z",
          "start_time": "2021-09-28T16:09:36.345590Z"
        },
        "id": "9ccf8e19"
      },
      "source": [
        "df = df[df.reviewText.notna()]"
      ],
      "execution_count": null,
      "outputs": []
    },
    {
      "cell_type": "code",
      "metadata": {
        "ExecuteTime": {
          "end_time": "2021-09-28T16:09:36.661129Z",
          "start_time": "2021-09-28T16:09:36.641130Z"
        },
        "id": "7d3f6308",
        "colab": {
          "base_uri": "https://localhost:8080/"
        },
        "outputId": "d0ac4d03-e772-47ff-a169-710c79ebf937"
      },
      "source": [
        "df.shape"
      ],
      "execution_count": null,
      "outputs": [
        {
          "output_type": "execute_result",
          "data": {
            "text/plain": [
              "(250000, 2)"
            ]
          },
          "metadata": {},
          "execution_count": 109
        }
      ]
    },
    {
      "cell_type": "markdown",
      "metadata": {
        "id": "2b496918"
      },
      "source": [
        "#### Removing non-unique rows"
      ]
    },
    {
      "cell_type": "code",
      "metadata": {
        "ExecuteTime": {
          "end_time": "2021-09-28T16:09:39.784140Z",
          "start_time": "2021-09-28T16:09:39.464239Z"
        },
        "id": "2bb50506"
      },
      "source": [
        "df = df.drop_duplicates().copy()"
      ],
      "execution_count": null,
      "outputs": []
    },
    {
      "cell_type": "code",
      "metadata": {
        "ExecuteTime": {
          "end_time": "2021-09-28T16:09:39.862165Z",
          "start_time": "2021-09-28T16:09:39.850168Z"
        },
        "id": "202aebd7",
        "colab": {
          "base_uri": "https://localhost:8080/"
        },
        "outputId": "2202fd89-9ea9-43f7-d071-c506cb16cbf9"
      },
      "source": [
        "df.shape"
      ],
      "execution_count": null,
      "outputs": [
        {
          "output_type": "execute_result",
          "data": {
            "text/plain": [
              "(249580, 2)"
            ]
          },
          "metadata": {},
          "execution_count": 111
        }
      ]
    },
    {
      "cell_type": "markdown",
      "metadata": {
        "id": "fe19fc87"
      },
      "source": [
        "#### Checking data balance after dropping non-unique rows"
      ]
    },
    {
      "cell_type": "code",
      "metadata": {
        "ExecuteTime": {
          "end_time": "2021-09-28T16:09:53.062709Z",
          "start_time": "2021-09-28T16:09:53.040709Z"
        },
        "id": "4d846753",
        "colab": {
          "base_uri": "https://localhost:8080/"
        },
        "outputId": "cac3f680-6db5-4550-e1be-3697978eb45e"
      },
      "source": [
        "df.overall.value_counts()"
      ],
      "execution_count": null,
      "outputs": [
        {
          "output_type": "execute_result",
          "data": {
            "text/plain": [
              "5    49981\n",
              "4    49934\n",
              "3    49904\n",
              "1    49885\n",
              "2    49876\n",
              "Name: overall, dtype: int64"
            ]
          },
          "metadata": {},
          "execution_count": 112
        }
      ]
    },
    {
      "cell_type": "code",
      "metadata": {
        "ExecuteTime": {
          "end_time": "2021-09-28T16:09:59.942356Z",
          "start_time": "2021-09-28T16:09:59.929368Z"
        },
        "scrolled": true,
        "id": "7528600b",
        "colab": {
          "base_uri": "https://localhost:8080/"
        },
        "outputId": "4fa06a7c-7501-463d-9dab-fb8a4309be00"
      },
      "source": [
        "df.overall.value_counts()/len(df)"
      ],
      "execution_count": null,
      "outputs": [
        {
          "output_type": "execute_result",
          "data": {
            "text/plain": [
              "5    0.200260\n",
              "4    0.200072\n",
              "3    0.199952\n",
              "1    0.199876\n",
              "2    0.199840\n",
              "Name: overall, dtype: float64"
            ]
          },
          "metadata": {},
          "execution_count": 113
        }
      ]
    },
    {
      "cell_type": "markdown",
      "metadata": {
        "id": "nBqcymEILmu5"
      },
      "source": [
        "#### Transforming to 3 labels"
      ]
    },
    {
      "cell_type": "code",
      "metadata": {
        "colab": {
          "base_uri": "https://localhost:8080/"
        },
        "id": "jCPYdxziLr2t",
        "outputId": "d2ff0300-bdc2-41c3-ee93-29ce9ba40fa3"
      },
      "source": [
        "df.overall[df.overall < 3] = 0\n",
        "df.overall[df.overall == 3] = 1\n",
        "df.overall[df.overall > 3] = 2"
      ],
      "execution_count": null,
      "outputs": [
        {
          "output_type": "stream",
          "name": "stderr",
          "text": [
            "/usr/local/lib/python3.7/dist-packages/ipykernel_launcher.py:1: SettingWithCopyWarning: \n",
            "A value is trying to be set on a copy of a slice from a DataFrame\n",
            "\n",
            "See the caveats in the documentation: https://pandas.pydata.org/pandas-docs/stable/user_guide/indexing.html#returning-a-view-versus-a-copy\n",
            "  \"\"\"Entry point for launching an IPython kernel.\n",
            "/usr/local/lib/python3.7/dist-packages/ipykernel_launcher.py:2: SettingWithCopyWarning: \n",
            "A value is trying to be set on a copy of a slice from a DataFrame\n",
            "\n",
            "See the caveats in the documentation: https://pandas.pydata.org/pandas-docs/stable/user_guide/indexing.html#returning-a-view-versus-a-copy\n",
            "  \n",
            "/usr/local/lib/python3.7/dist-packages/ipykernel_launcher.py:3: SettingWithCopyWarning: \n",
            "A value is trying to be set on a copy of a slice from a DataFrame\n",
            "\n",
            "See the caveats in the documentation: https://pandas.pydata.org/pandas-docs/stable/user_guide/indexing.html#returning-a-view-versus-a-copy\n",
            "  This is separate from the ipykernel package so we can avoid doing imports until\n"
          ]
        }
      ]
    },
    {
      "cell_type": "markdown",
      "metadata": {
        "id": "UAuBWgD-Pig9"
      },
      "source": [
        "#### Undersampling"
      ]
    },
    {
      "cell_type": "code",
      "metadata": {
        "id": "lizKbZnePzrp"
      },
      "source": [
        "y = df['overall']"
      ],
      "execution_count": null,
      "outputs": []
    },
    {
      "cell_type": "code",
      "metadata": {
        "id": "ymtwG6nFNsPQ",
        "colab": {
          "base_uri": "https://localhost:8080/"
        },
        "outputId": "2491fe88-1be1-4148-baa6-f8555fa04bc4"
      },
      "source": [
        "from imblearn.under_sampling import RandomUnderSampler\n",
        "\n",
        "rus = RandomUnderSampler() \n",
        "\n",
        "df, y = rus.fit_resample(df, y)"
      ],
      "execution_count": null,
      "outputs": [
        {
          "output_type": "stream",
          "name": "stderr",
          "text": [
            "/usr/local/lib/python3.7/dist-packages/sklearn/utils/deprecation.py:87: FutureWarning: Function safe_indexing is deprecated; safe_indexing is deprecated in version 0.22 and will be removed in version 0.24.\n",
            "  warnings.warn(msg, category=FutureWarning)\n"
          ]
        }
      ]
    },
    {
      "cell_type": "code",
      "metadata": {
        "colab": {
          "base_uri": "https://localhost:8080/"
        },
        "id": "ZIkvz6MIRW6D",
        "outputId": "01f73fef-f43b-4515-ed92-ebd6e44d03be"
      },
      "source": [
        "pd.Series(y).value_counts()"
      ],
      "execution_count": null,
      "outputs": [
        {
          "output_type": "execute_result",
          "data": {
            "text/plain": [
              "2    49904\n",
              "1    49904\n",
              "0    49904\n",
              "dtype: int64"
            ]
          },
          "metadata": {},
          "execution_count": 117
        }
      ]
    },
    {
      "cell_type": "code",
      "metadata": {
        "ExecuteTime": {
          "end_time": "2021-09-28T16:09:59.942356Z",
          "start_time": "2021-09-28T16:09:59.929368Z"
        },
        "scrolled": true,
        "colab": {
          "base_uri": "https://localhost:8080/"
        },
        "id": "CVjFUBnTP-BM",
        "outputId": "b9dbcac3-80c1-4a75-f3cd-10e02ad08f59"
      },
      "source": [
        "pd.Series(y).value_counts()/len(y)"
      ],
      "execution_count": null,
      "outputs": [
        {
          "output_type": "execute_result",
          "data": {
            "text/plain": [
              "2    0.333333\n",
              "1    0.333333\n",
              "0    0.333333\n",
              "dtype: float64"
            ]
          },
          "metadata": {},
          "execution_count": 118
        }
      ]
    },
    {
      "cell_type": "markdown",
      "metadata": {
        "id": "bf30e909"
      },
      "source": [
        "#### Splitting the data:"
      ]
    },
    {
      "cell_type": "code",
      "metadata": {
        "ExecuteTime": {
          "end_time": "2021-09-28T16:10:16.341183Z",
          "start_time": "2021-09-28T16:10:16.327179Z"
        },
        "id": "99146840"
      },
      "source": [
        "X = pd.DataFrame(df)[0]"
      ],
      "execution_count": null,
      "outputs": []
    },
    {
      "cell_type": "markdown",
      "metadata": {
        "id": "NzpI1vW4S4Ef"
      },
      "source": [
        "Preprocessing the labels so our DL model would understand"
      ]
    },
    {
      "cell_type": "code",
      "metadata": {
        "id": "mqVffgRkQjHD"
      },
      "source": [
        "y = tf.keras.utils.to_categorical(y, 3, dtype=\"float32\")"
      ],
      "execution_count": null,
      "outputs": []
    },
    {
      "cell_type": "code",
      "metadata": {
        "colab": {
          "base_uri": "https://localhost:8080/"
        },
        "id": "GlU7Y-5ATnb4",
        "outputId": "957a1f19-6e51-4902-ff5f-27b159198275"
      },
      "source": [
        "y"
      ],
      "execution_count": null,
      "outputs": [
        {
          "output_type": "execute_result",
          "data": {
            "text/plain": [
              "array([[1., 0., 0.],\n",
              "       [1., 0., 0.],\n",
              "       [1., 0., 0.],\n",
              "       ...,\n",
              "       [0., 0., 1.],\n",
              "       [0., 0., 1.],\n",
              "       [0., 0., 1.]], dtype=float32)"
            ]
          },
          "metadata": {},
          "execution_count": 121
        }
      ]
    },
    {
      "cell_type": "code",
      "metadata": {
        "colab": {
          "base_uri": "https://localhost:8080/"
        },
        "id": "dcpo6tP-Tsms",
        "outputId": "f9f13675-a0ae-4707-862a-784cee42e2b5"
      },
      "source": [
        "len(y)"
      ],
      "execution_count": null,
      "outputs": [
        {
          "output_type": "execute_result",
          "data": {
            "text/plain": [
              "149712"
            ]
          },
          "metadata": {},
          "execution_count": 122
        }
      ]
    },
    {
      "cell_type": "code",
      "metadata": {
        "ExecuteTime": {
          "end_time": "2021-09-28T16:10:16.465207Z",
          "start_time": "2021-09-28T16:10:16.344196Z"
        },
        "id": "94e9bba3"
      },
      "source": [
        "from sklearn.model_selection import train_test_split\n",
        "\n",
        "X_train, X_test, y_train, y_test = train_test_split(X, y,\n",
        "                                                    test_size=0.3,\n",
        "                                                    random_state=42,\n",
        "                                                    stratify=y) "
      ],
      "execution_count": null,
      "outputs": []
    },
    {
      "cell_type": "markdown",
      "metadata": {
        "id": "kX-pkkl9tFoA"
      },
      "source": [
        "#### Cleaning text"
      ]
    },
    {
      "cell_type": "code",
      "metadata": {
        "id": "YcBAbHtuuXce"
      },
      "source": [
        "import re\n",
        "import gensim\n",
        "from nltk.tokenize.treebank import TreebankWordDetokenizer\n",
        "\n",
        "\n",
        "def depure_data(data):\n",
        "    \n",
        "    #Removing URLs with a regular expression\n",
        "    url_pattern = re.compile(r'https?://\\S+|www\\.\\S+')\n",
        "    data = url_pattern.sub(r'', data)\n",
        "\n",
        "    # Remove Emails\n",
        "    data = re.sub('\\S*@\\S*\\s?', '', data)\n",
        "\n",
        "    # Remove new line characters\n",
        "    data = re.sub('\\s+', ' ', data)\n",
        "\n",
        "    # Remove distracting single quotes\n",
        "    data = re.sub(\"\\'\", \"\", data)\n",
        "        \n",
        "    return data\n",
        "\n",
        "\n",
        "def sent_to_words(sentences):\n",
        "    for sentence in sentences:\n",
        "        yield(gensim.utils.simple_preprocess(str(sentence), deacc=True))\n",
        "\n",
        "\n",
        "def detokenize(text):\n",
        "    return TreebankWordDetokenizer().detokenize(text)\n",
        "\n",
        "\n",
        "def clean_text(df):\n",
        "  temp = []\n",
        "  #Splitting pd.Series to list\n",
        "  data_to_list = df.values.tolist()\n",
        "  for i in range(len(data_to_list)):\n",
        "      temp.append(depure_data(data_to_list[i]))\n",
        "  data_words = list(sent_to_words(temp))\n",
        "  data = []\n",
        "  for i in range(len(data_words)):\n",
        "      data.append(detokenize(data_words[i]))\n",
        "  print(data[:5])\n",
        "\n",
        "  return data"
      ],
      "execution_count": null,
      "outputs": []
    },
    {
      "cell_type": "code",
      "metadata": {
        "colab": {
          "base_uri": "https://localhost:8080/"
        },
        "id": "LHgprcfX57x3",
        "outputId": "d2a29de7-17f7-4f8d-f3b7-2d607a4008e9"
      },
      "source": [
        "X_train = clean_text(X_train)\n",
        "X_test = clean_text(X_test)"
      ],
      "execution_count": null,
      "outputs": [
        {
          "output_type": "stream",
          "name": "stdout",
          "text": [
            "['very disappointed in this collar have purchased hamilton collars in the past and they were all of high quality those previous collars lasted for years and would clean up to look like new with just mild soap wash this collar however is coming apart just months after purchase the patterned part on the collar is literally unraveling the dog that it is on is an inside dog and is always walked on leash when outside so she has not had the opportunity to snag it or cause damage that would explain this really liked the color combination as it looked great on my mostly red coated german shepherd but now well have to replace it as it keeps raveling and looks terrible guess like so many companies that start with quality product theyve tried to cut corners and have now lost customer by doing so', 'had two voltos one for pedaltrain nano one for mini at first liked the convenience but came to dislike hunting for the on off button both units failed in less than months so replaced them with one spot power supply', 'these are cute critters that have crackling sound when your pet plays with it it also has catnip inside but it doesnt seem to be very much as my cat is very sensitive to catnip and he barely interacts with the toy do however like to give them to family and friends for their furry kids', 'very expensive not worth the price', 'really really good product to have laying around think seen my vet use it too']\n",
            "['this is very large mousepad thats my main complaint it takes lot of space on my desk other than that its handy notepad for documenting your week if youre the type that likes to have it spelled out in front of you rather than just stored on your phone and im that type like knock knock products generally appreciate the sense of humor and its nice to look down and have little reminders that say things like can just say nailed it or having your weekend already described as mind blowing dig it', 'good anchors easily pulled out or put back down use them alot and have had no issues yet people say they rattle little but my truck is loud so dont notice if they do', 'these smelled awful and my dog hated them', 'great fix great price', 'having purchased this cd finally after seeing heaven the video am pleasantly impressed with this the songs all have great beat and is produced very well yanou is great as vocalist but on some of the tracks the singers are not as strong as the music needs but dj sammy did an awesome job with this dance cd']\n"
          ]
        }
      ]
    },
    {
      "cell_type": "markdown",
      "metadata": {
        "id": "o3c4BmYp-hk_"
      },
      "source": [
        "Checking number of words"
      ]
    },
    {
      "cell_type": "code",
      "metadata": {
        "id": "yairIL64-hk_"
      },
      "source": [
        "num_of_words = [len(s.split()) for s in X_train]"
      ],
      "execution_count": null,
      "outputs": []
    },
    {
      "cell_type": "markdown",
      "metadata": {
        "id": "24buPwi3-hk_"
      },
      "source": [
        "About 93% of the reviews have less words than 200. The number has changed slightly from before."
      ]
    },
    {
      "cell_type": "code",
      "metadata": {
        "colab": {
          "base_uri": "https://localhost:8080/"
        },
        "id": "L8kOSNo9-hlA",
        "outputId": "6e561b52-1921-4df2-fd2e-85e7194dea62"
      },
      "source": [
        "sum(np.array(num_of_words) < 200) / len(num_of_words)"
      ],
      "execution_count": null,
      "outputs": [
        {
          "output_type": "execute_result",
          "data": {
            "text/plain": [
              "0.9312486879520602"
            ]
          },
          "metadata": {},
          "execution_count": 127
        }
      ]
    },
    {
      "cell_type": "markdown",
      "metadata": {
        "id": "3c6Tw92E7lJL"
      },
      "source": [
        "#### Tokenizing"
      ]
    },
    {
      "cell_type": "code",
      "metadata": {
        "colab": {
          "base_uri": "https://localhost:8080/"
        },
        "id": "07JF6Dbl7IDT",
        "outputId": "f9df4900-c2e2-4214-edfb-2ed9c8ea3b7c"
      },
      "source": [
        "from keras.preprocessing.text import Tokenizer\n",
        "from keras.preprocessing.sequence import pad_sequences\n",
        "\n",
        "max_words = 5000\n",
        "max_len = 200\n",
        "\n",
        "tokenizer = Tokenizer(num_words=max_words)\n",
        "tokenizer.fit_on_texts(X_train)\n",
        "\n",
        "sequences_train = tokenizer.texts_to_sequences(X_train)\n",
        "sequences_test = tokenizer.texts_to_sequences(X_test)\n",
        "\n",
        "X_train = pad_sequences(sequences_train, maxlen=max_len)\n",
        "X_test = pad_sequences(sequences_test, maxlen=max_len)\n",
        "\n",
        "print(X_train)"
      ],
      "execution_count": null,
      "outputs": [
        {
          "output_type": "stream",
          "name": "stdout",
          "text": [
            "[[   0    0    0 ...   67  463   21]\n",
            " [   0    0    0 ... 1152  307 1385]\n",
            " [   0    0    0 ...    8   87  752]\n",
            " ...\n",
            " [   0    0    0 ...  584   26   46]\n",
            " [   0    0    0 ...   30  224  158]\n",
            " [   0    0    0 ...    2  325  175]]\n"
          ]
        }
      ]
    },
    {
      "cell_type": "markdown",
      "metadata": {
        "id": "CoZqcS3WBOST"
      },
      "source": [
        "# Modeling"
      ]
    },
    {
      "cell_type": "markdown",
      "metadata": {
        "id": "ffI0vDwYgJ2n"
      },
      "source": [
        "#### Using single LSTM layer model"
      ]
    },
    {
      "cell_type": "code",
      "metadata": {
        "colab": {
          "base_uri": "https://localhost:8080/"
        },
        "id": "3T4V1v2NBQjl",
        "outputId": "e0ff1b49-12a5-4d14-abf8-74f0cc3f998f"
      },
      "source": [
        "from keras.models import Sequential\n",
        "from keras import layers\n",
        "from keras import regularizers\n",
        "from keras import backend as K\n",
        "from keras.callbacks import ModelCheckpoint\n",
        "from tensorflow.keras.callbacks import EarlyStopping\n",
        "\n",
        "\n",
        "model1 = Sequential()\n",
        "model1.add(layers.Embedding(max_words, 20)) #The embedding layer\n",
        "model1.add(layers.LSTM(15, dropout=0.5)) #Our LSTM layer\n",
        "model1.add(layers.Dense(3, activation='softmax'))\n",
        "\n",
        "\n",
        "model1.compile(optimizer='rmsprop', loss='categorical_crossentropy', \n",
        "               metrics=['accuracy'])\n",
        "\n",
        "checkpoint1 = ModelCheckpoint(\"/content/drive/MyDrive/Colab Notebooks/Sentiment analysis - Project/saved_models/best_model1.hdf5\", \n",
        "                              monitor='val_accuracy', \n",
        "                              verbose=1, save_best_only=True, mode='auto', \n",
        "                              period=1, save_weights_only=False)\n",
        "\n",
        "es = EarlyStopping(monitor='val_loss', verbose=1, patience=5, restore_best_weights=True)\n",
        "\n",
        "history = model1.fit(X_train, y_train, epochs=70, \n",
        "                     validation_data=(X_test, y_test), use_multiprocessing=True, \n",
        "                     callbacks=[checkpoint1, es])"
      ],
      "execution_count": null,
      "outputs": [
        {
          "output_type": "stream",
          "name": "stdout",
          "text": [
            "WARNING:tensorflow:`period` argument is deprecated. Please use `save_freq` to specify the frequency in number of batches seen.\n",
            "Epoch 1/70\n",
            "3275/3275 [==============================] - 47s 13ms/step - loss: 0.8721 - accuracy: 0.5818 - val_loss: 0.8169 - val_accuracy: 0.6330\n",
            "\n",
            "Epoch 00001: val_accuracy improved from -inf to 0.63303, saving model to /content/drive/MyDrive/Colab Notebooks/Sentiment analysis - Project/saved_models/best_model1.hdf5\n",
            "Epoch 2/70\n",
            "3275/3275 [==============================] - 41s 12ms/step - loss: 0.7847 - accuracy: 0.6429 - val_loss: 0.7670 - val_accuracy: 0.6508\n",
            "\n",
            "Epoch 00002: val_accuracy improved from 0.63303 to 0.65080, saving model to /content/drive/MyDrive/Colab Notebooks/Sentiment analysis - Project/saved_models/best_model1.hdf5\n",
            "Epoch 3/70\n",
            "3275/3275 [==============================] - 40s 12ms/step - loss: 0.7612 - accuracy: 0.6554 - val_loss: 0.7458 - val_accuracy: 0.6632\n",
            "\n",
            "Epoch 00003: val_accuracy improved from 0.65080 to 0.66318, saving model to /content/drive/MyDrive/Colab Notebooks/Sentiment analysis - Project/saved_models/best_model1.hdf5\n",
            "Epoch 4/70\n",
            "3275/3275 [==============================] - 40s 12ms/step - loss: 0.7480 - accuracy: 0.6633 - val_loss: 0.7334 - val_accuracy: 0.6701\n",
            "\n",
            "Epoch 00004: val_accuracy improved from 0.66318 to 0.67013, saving model to /content/drive/MyDrive/Colab Notebooks/Sentiment analysis - Project/saved_models/best_model1.hdf5\n",
            "Epoch 5/70\n",
            "3275/3275 [==============================] - 40s 12ms/step - loss: 0.7384 - accuracy: 0.6693 - val_loss: 0.7400 - val_accuracy: 0.6686\n",
            "\n",
            "Epoch 00005: val_accuracy did not improve from 0.67013\n",
            "Epoch 6/70\n",
            "3275/3275 [==============================] - 40s 12ms/step - loss: 0.7314 - accuracy: 0.6725 - val_loss: 0.7246 - val_accuracy: 0.6753\n",
            "\n",
            "Epoch 00006: val_accuracy improved from 0.67013 to 0.67531, saving model to /content/drive/MyDrive/Colab Notebooks/Sentiment analysis - Project/saved_models/best_model1.hdf5\n",
            "Epoch 7/70\n",
            "3275/3275 [==============================] - 40s 12ms/step - loss: 0.7259 - accuracy: 0.6755 - val_loss: 0.7237 - val_accuracy: 0.6793\n",
            "\n",
            "Epoch 00007: val_accuracy improved from 0.67531 to 0.67928, saving model to /content/drive/MyDrive/Colab Notebooks/Sentiment analysis - Project/saved_models/best_model1.hdf5\n",
            "Epoch 8/70\n",
            "3275/3275 [==============================] - 40s 12ms/step - loss: 0.7225 - accuracy: 0.6774 - val_loss: 0.7233 - val_accuracy: 0.6776\n",
            "\n",
            "Epoch 00008: val_accuracy did not improve from 0.67928\n",
            "Epoch 9/70\n",
            "3275/3275 [==============================] - 40s 12ms/step - loss: 0.7185 - accuracy: 0.6809 - val_loss: 0.7281 - val_accuracy: 0.6748\n",
            "\n",
            "Epoch 00009: val_accuracy did not improve from 0.67928\n",
            "Epoch 10/70\n",
            "3275/3275 [==============================] - 40s 12ms/step - loss: 0.7152 - accuracy: 0.6824 - val_loss: 0.7273 - val_accuracy: 0.6750\n",
            "\n",
            "Epoch 00010: val_accuracy did not improve from 0.67928\n",
            "Epoch 11/70\n",
            "3275/3275 [==============================] - 40s 12ms/step - loss: 0.7120 - accuracy: 0.6846 - val_loss: 0.7165 - val_accuracy: 0.6831\n",
            "\n",
            "Epoch 00011: val_accuracy improved from 0.67928 to 0.68308, saving model to /content/drive/MyDrive/Colab Notebooks/Sentiment analysis - Project/saved_models/best_model1.hdf5\n",
            "Epoch 12/70\n",
            "3275/3275 [==============================] - 40s 12ms/step - loss: 0.7100 - accuracy: 0.6855 - val_loss: 0.7167 - val_accuracy: 0.6819\n",
            "\n",
            "Epoch 00012: val_accuracy did not improve from 0.68308\n",
            "Epoch 13/70\n",
            "3275/3275 [==============================] - 40s 12ms/step - loss: 0.7072 - accuracy: 0.6871 - val_loss: 0.7203 - val_accuracy: 0.6774\n",
            "\n",
            "Epoch 00013: val_accuracy did not improve from 0.68308\n",
            "Epoch 14/70\n",
            "3275/3275 [==============================] - 41s 12ms/step - loss: 0.7052 - accuracy: 0.6878 - val_loss: 0.7162 - val_accuracy: 0.6825\n",
            "\n",
            "Epoch 00014: val_accuracy did not improve from 0.68308\n",
            "Epoch 15/70\n",
            "3275/3275 [==============================] - 40s 12ms/step - loss: 0.7048 - accuracy: 0.6884 - val_loss: 0.7148 - val_accuracy: 0.6817\n",
            "\n",
            "Epoch 00015: val_accuracy did not improve from 0.68308\n",
            "Epoch 16/70\n",
            "3275/3275 [==============================] - 40s 12ms/step - loss: 0.7021 - accuracy: 0.6893 - val_loss: 0.7106 - val_accuracy: 0.6842\n",
            "\n",
            "Epoch 00016: val_accuracy improved from 0.68308 to 0.68415, saving model to /content/drive/MyDrive/Colab Notebooks/Sentiment analysis - Project/saved_models/best_model1.hdf5\n",
            "Epoch 17/70\n",
            "3275/3275 [==============================] - 40s 12ms/step - loss: 0.7017 - accuracy: 0.6907 - val_loss: 0.7132 - val_accuracy: 0.6836\n",
            "\n",
            "Epoch 00017: val_accuracy did not improve from 0.68415\n",
            "Epoch 18/70\n",
            "3275/3275 [==============================] - 40s 12ms/step - loss: 0.6995 - accuracy: 0.6911 - val_loss: 0.7200 - val_accuracy: 0.6792\n",
            "\n",
            "Epoch 00018: val_accuracy did not improve from 0.68415\n",
            "Epoch 19/70\n",
            "3275/3275 [==============================] - 40s 12ms/step - loss: 0.6974 - accuracy: 0.6918 - val_loss: 0.7138 - val_accuracy: 0.6833\n",
            "\n",
            "Epoch 00019: val_accuracy did not improve from 0.68415\n",
            "Epoch 20/70\n",
            "3275/3275 [==============================] - 40s 12ms/step - loss: 0.6970 - accuracy: 0.6922 - val_loss: 0.7093 - val_accuracy: 0.6818\n",
            "\n",
            "Epoch 00020: val_accuracy did not improve from 0.68415\n",
            "Epoch 21/70\n",
            "3275/3275 [==============================] - 40s 12ms/step - loss: 0.6951 - accuracy: 0.6928 - val_loss: 0.7109 - val_accuracy: 0.6823\n",
            "\n",
            "Epoch 00021: val_accuracy did not improve from 0.68415\n",
            "Epoch 22/70\n",
            "3275/3275 [==============================] - 40s 12ms/step - loss: 0.6962 - accuracy: 0.6932 - val_loss: 0.7091 - val_accuracy: 0.6860\n",
            "\n",
            "Epoch 00022: val_accuracy improved from 0.68415 to 0.68598, saving model to /content/drive/MyDrive/Colab Notebooks/Sentiment analysis - Project/saved_models/best_model1.hdf5\n",
            "Epoch 23/70\n",
            "3275/3275 [==============================] - 40s 12ms/step - loss: 0.6933 - accuracy: 0.6945 - val_loss: 0.7134 - val_accuracy: 0.6790\n",
            "\n",
            "Epoch 00023: val_accuracy did not improve from 0.68598\n",
            "Epoch 24/70\n",
            "3275/3275 [==============================] - 40s 12ms/step - loss: 0.6935 - accuracy: 0.6938 - val_loss: 0.7077 - val_accuracy: 0.6848\n",
            "\n",
            "Epoch 00024: val_accuracy did not improve from 0.68598\n",
            "Epoch 25/70\n",
            "3275/3275 [==============================] - 40s 12ms/step - loss: 0.6935 - accuracy: 0.6935 - val_loss: 0.7212 - val_accuracy: 0.6830\n",
            "\n",
            "Epoch 00025: val_accuracy did not improve from 0.68598\n",
            "Epoch 26/70\n",
            "3275/3275 [==============================] - 40s 12ms/step - loss: 0.6921 - accuracy: 0.6944 - val_loss: 0.7058 - val_accuracy: 0.6824\n",
            "\n",
            "Epoch 00026: val_accuracy did not improve from 0.68598\n",
            "Epoch 27/70\n",
            "3275/3275 [==============================] - 40s 12ms/step - loss: 0.6909 - accuracy: 0.6961 - val_loss: 0.7076 - val_accuracy: 0.6826\n",
            "\n",
            "Epoch 00027: val_accuracy did not improve from 0.68598\n",
            "Epoch 28/70\n",
            "3275/3275 [==============================] - 40s 12ms/step - loss: 0.6918 - accuracy: 0.6958 - val_loss: 0.7124 - val_accuracy: 0.6827\n",
            "\n",
            "Epoch 00028: val_accuracy did not improve from 0.68598\n",
            "Epoch 29/70\n",
            "3275/3275 [==============================] - 40s 12ms/step - loss: 0.6912 - accuracy: 0.6954 - val_loss: 0.7069 - val_accuracy: 0.6850\n",
            "\n",
            "Epoch 00029: val_accuracy did not improve from 0.68598\n",
            "Epoch 30/70\n",
            "3275/3275 [==============================] - 40s 12ms/step - loss: 0.6894 - accuracy: 0.6970 - val_loss: 0.7133 - val_accuracy: 0.6824\n",
            "\n",
            "Epoch 00030: val_accuracy did not improve from 0.68598\n",
            "Epoch 31/70\n",
            "3275/3275 [==============================] - 40s 12ms/step - loss: 0.6893 - accuracy: 0.6971 - val_loss: 0.7120 - val_accuracy: 0.6807\n",
            "\n",
            "Epoch 00031: val_accuracy did not improve from 0.68598\n",
            "Restoring model weights from the end of the best epoch.\n",
            "Epoch 00031: early stopping\n"
          ]
        }
      ]
    },
    {
      "cell_type": "code",
      "metadata": {
        "colab": {
          "base_uri": "https://localhost:8080/"
        },
        "id": "ZKb9XsXREUsW",
        "outputId": "fd09d869-81d9-4104-d1e5-52fd7c893c22"
      },
      "source": [
        "test_loss, test_acc = model1.evaluate(X_test, y_test, verbose=2)\n",
        "print('Model accuracy: ',test_acc)"
      ],
      "execution_count": null,
      "outputs": [
        {
          "output_type": "stream",
          "name": "stdout",
          "text": [
            "1404/1404 - 7s - loss: 0.7058 - accuracy: 0.6824\n",
            "Model accuracy:  0.6824153065681458\n"
          ]
        }
      ]
    },
    {
      "cell_type": "code",
      "metadata": {
        "id": "fNhSjcPQEoeb"
      },
      "source": [
        "y_pred = model1.predict(X_test)"
      ],
      "execution_count": null,
      "outputs": []
    },
    {
      "cell_type": "code",
      "metadata": {
        "id": "legH5u59FjKv"
      },
      "source": [
        "from sklearn.metrics import classification_report\n",
        "from sklearn.metrics import confusion_matrix\n",
        "\n",
        "matrix = confusion_matrix(y_test.argmax(axis=1), np.around(y_pred, decimals=0).argmax(axis=1))"
      ],
      "execution_count": null,
      "outputs": []
    },
    {
      "cell_type": "code",
      "metadata": {
        "colab": {
          "base_uri": "https://localhost:8080/",
          "height": 919
        },
        "id": "Ddcf08YuFjlS",
        "outputId": "d0ec3a71-81a6-4a3f-ab4a-072470feb779"
      },
      "source": [
        "import seaborn as sns\n",
        "conf_matrix = pd.DataFrame(matrix, index = ['Negative','Neutral','Positive'],columns = ['Negative','Neutral','Positive'])\n",
        "#Normalizing\n",
        "conf_matrix = conf_matrix.astype('float') / conf_matrix.sum(axis=1)[:, np.newaxis]\n",
        "plt.figure(figsize = (15,15))\n",
        "sns.heatmap(conf_matrix, annot=True, annot_kws={\"size\": 15})\n",
        "plt.show()"
      ],
      "execution_count": null,
      "outputs": [
        {
          "output_type": "stream",
          "name": "stderr",
          "text": [
            "/usr/local/lib/python3.7/dist-packages/ipykernel_launcher.py:4: FutureWarning: Support for multi-dimensional indexing (e.g. `obj[:, None]`) is deprecated and will be removed in a future version.  Convert to a numpy array before indexing instead.\n",
            "  after removing the cwd from sys.path.\n"
          ]
        },
        {
          "output_type": "display_data",
          "data": {
            "image/png": "[encoded data removed]",
            "text/plain": [
              "<Figure size 1080x1080 with 2 Axes>"
            ]
          },
          "metadata": {
            "needs_background": "light"
          }
        }
      ]
    },
    {
      "cell_type": "code",
      "metadata": {
        "id": "e-Q5Ze3UHl8X"
      },
      "source": [
        "y_test_n = y_test.argmax(axis=1)\n",
        "y_pred_n = y_pred.argmax(axis=1)"
      ],
      "execution_count": null,
      "outputs": []
    },
    {
      "cell_type": "code",
      "metadata": {
        "colab": {
          "base_uri": "https://localhost:8080/"
        },
        "id": "qMvW79cEGwSl",
        "outputId": "baaacb70-3533-40e2-df7b-67fae124e65c"
      },
      "source": [
        "print(classification_report(y_test_n, y_pred_n))"
      ],
      "execution_count": null,
      "outputs": [
        {
          "output_type": "stream",
          "name": "stdout",
          "text": [
            "              precision    recall  f1-score   support\n",
            "\n",
            "           0       0.73      0.68      0.71     14972\n",
            "           1       0.57      0.62      0.59     14971\n",
            "           2       0.76      0.74      0.75     14971\n",
            "\n",
            "    accuracy                           0.68     44914\n",
            "   macro avg       0.69      0.68      0.68     44914\n",
            "weighted avg       0.69      0.68      0.68     44914\n",
            "\n"
          ]
        }
      ]
    },
    {
      "cell_type": "markdown",
      "metadata": {
        "id": "-dbqV0PWgcxs"
      },
      "source": [
        "#### Checking results with examples"
      ]
    },
    {
      "cell_type": "code",
      "metadata": {
        "id": "PNeBFolheDRi"
      },
      "source": [
        "sentiment = ['Negative','Neutral','Positive']"
      ],
      "execution_count": 137,
      "outputs": []
    },
    {
      "cell_type": "code",
      "metadata": {
        "colab": {
          "base_uri": "https://localhost:8080/",
          "height": 35
        },
        "id": "3ymE9LHweAGA",
        "outputId": "ed977927-bdd2-47a7-8d95-ee2994e346e0"
      },
      "source": [
        "sequence = tokenizer.texts_to_sequences(['this experience has been the worst , want my money back'])\n",
        "test = pad_sequences(sequence, maxlen=max_len)\n",
        "sentiment[np.around(model1.predict(test), decimals=0).argmax(axis=1)[0]]"
      ],
      "execution_count": 138,
      "outputs": [
        {
          "output_type": "execute_result",
          "data": {
            "application/vnd.google.colaboratory.intrinsic+json": {
              "type": "string"
            },
            "text/plain": [
              "'Negative'"
            ]
          },
          "metadata": {},
          "execution_count": 138
        }
      ]
    },
    {
      "cell_type": "code",
      "metadata": {
        "colab": {
          "base_uri": "https://localhost:8080/",
          "height": 35
        },
        "id": "bBL5xmSaeXvJ",
        "outputId": "ab6c719f-a385-4add-88de-1ea196fb62b2"
      },
      "source": [
        "sequence = tokenizer.texts_to_sequences(['this video game is the best ever'])\n",
        "test = pad_sequences(sequence, maxlen=max_len)\n",
        "sentiment[np.around(model1.predict(test), decimals=0).argmax(axis=1)[0]]"
      ],
      "execution_count": 141,
      "outputs": [
        {
          "output_type": "execute_result",
          "data": {
            "application/vnd.google.colaboratory.intrinsic+json": {
              "type": "string"
            },
            "text/plain": [
              "'Positive'"
            ]
          },
          "metadata": {},
          "execution_count": 141
        }
      ]
    },
    {
      "cell_type": "code",
      "metadata": {
        "colab": {
          "base_uri": "https://localhost:8080/",
          "height": 35
        },
        "id": "RnLkSwcCeYJ1",
        "outputId": "f777a390-85cf-40e4-a472-ebc8184b59b6"
      },
      "source": [
        "sequence = tokenizer.texts_to_sequences(['i hate youtube ads, they are annoying'])\n",
        "test = pad_sequences(sequence, maxlen=max_len)\n",
        "sentiment[np.around(model1.predict(test), decimals=0).argmax(axis=1)[0]]"
      ],
      "execution_count": 143,
      "outputs": [
        {
          "output_type": "execute_result",
          "data": {
            "application/vnd.google.colaboratory.intrinsic+json": {
              "type": "string"
            },
            "text/plain": [
              "'Negative'"
            ]
          },
          "metadata": {},
          "execution_count": 143
        }
      ]
    },
    {
      "cell_type": "code",
      "metadata": {
        "colab": {
          "base_uri": "https://localhost:8080/",
          "height": 35
        },
        "id": "x2MYd4BkeqNT",
        "outputId": "3fcaa2ed-ca05-4ffa-9e8c-66ddd78948d9"
      },
      "source": [
        "sequence = tokenizer.texts_to_sequences(['it was ok'])\n",
        "test = pad_sequences(sequence, maxlen=max_len)\n",
        "sentiment[np.around(model1.predict(test), decimals=0).argmax(axis=1)[0]]"
      ],
      "execution_count": 144,
      "outputs": [
        {
          "output_type": "execute_result",
          "data": {
            "application/vnd.google.colaboratory.intrinsic+json": {
              "type": "string"
            },
            "text/plain": [
              "'Neutral'"
            ]
          },
          "metadata": {},
          "execution_count": 144
        }
      ]
    },
    {
      "cell_type": "code",
      "metadata": {
        "colab": {
          "base_uri": "https://localhost:8080/",
          "height": 35
        },
        "id": "7faXHfl6e3-7",
        "outputId": "0f7d86c9-f89b-4c66-eccb-8c5f395aafcc"
      },
      "source": [
        "sequence = tokenizer.texts_to_sequences(['''i really disliked their previous \n",
        "  product but this time they managed to surprise me'''])\n",
        "test = pad_sequences(sequence, maxlen=max_len)\n",
        "sentiment[np.around(model1.predict(test), decimals=0).argmax(axis=1)[0]]"
      ],
      "execution_count": 147,
      "outputs": [
        {
          "output_type": "execute_result",
          "data": {
            "application/vnd.google.colaboratory.intrinsic+json": {
              "type": "string"
            },
            "text/plain": [
              "'Positive'"
            ]
          },
          "metadata": {},
          "execution_count": 147
        }
      ]
    },
    {
      "cell_type": "code",
      "metadata": {
        "colab": {
          "base_uri": "https://localhost:8080/",
          "height": 35
        },
        "id": "rjqT0J98fXXW",
        "outputId": "f9a340be-c28c-4ab4-b4d4-52ca19364086"
      },
      "source": [
        "sequence = tokenizer.texts_to_sequences(['''the product doesnt work, \n",
        "  dont buy if you value your money'''])\n",
        "test = pad_sequences(sequence, maxlen=max_len)\n",
        "sentiment[np.around(model1.predict(test), decimals=0).argmax(axis=1)[0]]"
      ],
      "execution_count": 148,
      "outputs": [
        {
          "output_type": "execute_result",
          "data": {
            "application/vnd.google.colaboratory.intrinsic+json": {
              "type": "string"
            },
            "text/plain": [
              "'Negative'"
            ]
          },
          "metadata": {},
          "execution_count": 148
        }
      ]
    },
    {
      "cell_type": "code",
      "metadata": {
        "colab": {
          "base_uri": "https://localhost:8080/",
          "height": 35
        },
        "id": "2GmjjrOxfqCj",
        "outputId": "2d9c9de3-1714-4c13-a74a-c1673d46a060"
      },
      "source": [
        "sequence = tokenizer.texts_to_sequences(['''overall this experience was somewhat\n",
        "  underwhelming'''])\n",
        "test = pad_sequences(sequence, maxlen=max_len)\n",
        "sentiment[np.around(model1.predict(test), decimals=0).argmax(axis=1)[0]]"
      ],
      "execution_count": 150,
      "outputs": [
        {
          "output_type": "execute_result",
          "data": {
            "application/vnd.google.colaboratory.intrinsic+json": {
              "type": "string"
            },
            "text/plain": [
              "'Neutral'"
            ]
          },
          "metadata": {},
          "execution_count": 150
        }
      ]
    }
  ]
}